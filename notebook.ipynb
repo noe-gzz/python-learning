{
  "cells": [
    {
      "cell_type": "markdown",
      "id": "1a2b3c4d",
      "metadata": {},
      "source": [
        "<link rel='stylesheet' type='text/css' href='styles.css'>\n",
        "<div class=\"title\">Python Mastery Path: Data Analysis and Data Science</div>\n",
        "<div class=\"subtitle\">Index of Content</div>\n",
        "<ul>\n",
        "    <li><a href='#level-1-basic'>Level 1: Foundations in Python</a></li>\n",
        "    <li><a href='#level-2-intermediate'>Level 2: Applied Python and Data Manipulation</a></li>\n",
        "    <li><a href='#level-3-advanced'>Level 3: Advanced Python for Data Science</a></li>\n",
        "</ul>"
      ]
    },
    {
      "cell_type": "markdown",
      "id": "2e4f5g6h",
      "metadata": {},
      "source": [
        "<link rel='stylesheet' type='text/css' href='styles.css'>\n",
        "<div class=\"subtitle\" id='level-1-basic'>Level 1: Foundations in Python</div>\n",
        "<p class=\"p\">Objective:</p>\n",
        "<p class=\"rm\">Learn and understand Python basics, including syntax, data types, and essential programming concepts.</p>\n",
        "<p class=\"p\">Core Topics:</p>\n",
        "<ul>\n",
        "    <li>Introduction to Python syntax</li>\n",
        "    <li>Basic data types: integers, floats, strings, booleans</li>\n",
        "    <li>Data structures: lists, tuples, dictionaries, sets</li>\n",
        "    <li>Control flow: if-else, loops (for, while)</li>\n",
        "    <li>Functions and modules</li>\n",
        "    <li>Exception handling</li>\n",
        "</ul>"
      ]
    },
    {
      "cell_type": "code",
      "execution_count": null,
      "id": "3h4j5k6l",
      "metadata": {},
      "outputs": [],
      "source": [
        "# Example 1: Basic Syntax\n",
        "x = 5\n",
        "y = 10\n",
        "sum = x + y\n",
        "print(f'The sum of {x} and {y} is {sum}')"
      ]
    },
    {
      "cell_type": "code",
      "execution_count": null,
      "id": "4m5n6o7p",
      "metadata": {},
      "outputs": [],
      "source": [
        "# Example 2: Basic Data Types\n",
        "integer_var = 42\n",
        "float_var = 3.14\n",
        "string_var = \"Hello, Python!\"\n",
        "boolean_var = True\n",
        "\n",
        "print(\"Integer:\", integer_var)\n",
        "print(\"Float:\", float_var)\n",
        "print(\"String:\", string_var)\n",
        "print(\"Boolean:\", boolean_var)"
      ]
    },
    {
      "cell_type": "code",
      "execution_count": null,
      "id": "5q6r7s8t",
      "metadata": {},
      "outputs": [],
      "source": [
        "# Example 3: Data Structures\n",
        "my_list = [1, 2, 3]\n",
        "my_tuple = (4, 5, 6)\n",
        "my_dict = {\"key1\": \"value1\", \"key2\": \"value2\"}\n",
        "my_set = {7, 8, 9}\n",
        "\n",
        "print(\"List:\", my_list)\n",
        "print(\"Tuple:\", my_tuple)\n",
        "print(\"Dictionary:\", my_dict)\n",
        "print(\"Set:\", my_set)"
      ]
    },
    {
      "cell_type": "code",
      "execution_count": null,
      "id": "6u7v8w9x",
      "metadata": {},
      "outputs": [],
      "source": [
        "# Example 4: Control Flow\n",
        "for i in range(1, 6):\n",
        "    if i % 2 == 0:\n",
        "        print(f\"{i} is even\")\n",
        "    else:\n",
        "        print(f\"{i} is odd\")"
      ]
    },
    {
      "cell_type": "code",
      "execution_count": null,
      "id": "7y8z9a0b",
      "metadata": {},
      "outputs": [],
      "source": [
        "# Example 5: Functions and Modules\n",
        "def greet(name):\n",
        "    return f\"Hello, {name}!\"\n",
        "\n",
        "print(greet(\"Data Analyst\"))"
      ]
    },
    {
      "cell_type": "code",
      "execution_count": null,
      "id": "8c9d0e1f",
      "metadata": {},
      "outputs": [],
      "source": [
        "# Example 6: Exception Handling\n",
        "try:\n",
        "    result = 10 / 0\n",
        "except ZeroDivisionError:\n",
        "    print(\"Error: Division by zero is not allowed!\")\n",
        "finally:\n",
        "    print(\"Execution completed.\")"
      ]
    },
    {
      "cell_type": "markdown",
      "id": "9f0g1h2i",
      "metadata": {},
      "source": [
        "<link rel='stylesheet' type='text/css' href='styles.css'>\n",
        "<div class=\"subtitle\" id='level-2-intermediate'>Level 2: Applied Python and Data Manipulation</div>\n",
        "<p class=\"p\">Objective:</p>\n",
        "<p class=\"rm\">Gain expertise in working with files, data manipulation, visualization, and machine learning basics.</p>\n",
        "<p class=\"p\">Core Topics:</p>\n",
        "<ul>\n",
        "    <li>Working with files (CSV, JSON, etc.)</li>\n",
        "    <li>Data manipulation with pandas</li>\n",
        "    <li>Introduction to data visualization with Matplotlib and Seaborn</li>\n",
        "    <li>Introduction to NumPy for numerical operations</li>\n",
        "    <li>Basic Machine Learning with scikit-learn</li>\n",
        "</ul>"
      ]
    },
    {
      "cell_type": "markdown",
      "id": "9f0g1h2i",
      "metadata": {},
      "source": [
        "<link rel='stylesheet' type='text/css' href='styles.css'>\n",
        "<div class=\"subtitle\" id='level-2-intermediate'>Level 2: Applied Python and Data Manipulation</div>\n",
        "<p class=\"p\">Objective:</p>\n",
        "<p class=\"rm\">Gain expertise in working with files, data manipulation, visualization, and machine learning basics.</p>\n",
        "<p class=\"p\">Core Topics:</p>\n",
        "<ul>\n",
        "    <li>Working with files (CSV, JSON, etc.)</li>\n",
        "    <li>Data manipulation with pandas</li>\n",
        "    <li>Introduction to data visualization with Matplotlib and Seaborn</li>\n",
        "    <li>Introduction to NumPy for numerical operations</li>\n",
        "    <li>Basic Machine Learning with scikit-learn</li>\n",
        "</ul>"
      ]
    },
    {
      "cell_type": "code",
      "execution_count": null,
      "id": "0j1k2l3m",
      "metadata": {},
      "outputs": [],
      "source": [
        "# Example 1: Working with Files\n",
        "import json\n",
        "\n",
        "# Writing to a JSON file\n",
        "data = {\"name\": \"John\", \"age\": 30}\n",
        "with open(\"data.json\", \"w\") as file:\n",
        "    json.dump(data, file)\n",
        "\n",
        "# Reading from a JSON file\n",
        "with open(\"data.json\", \"r\") as file:\n",
        "    loaded_data = json.load(file)\n",
        "    print(loaded_data)"
      ]
    },
    {
      "cell_type": "code",
      "execution_count": null,
      "id": "3n4o5p6q",
      "metadata": {},
      "outputs": [],
      "source": [
        "# Example 2: Data Manipulation with Pandas\n",
        "import pandas as pd\n",
        "\n",
        "# Creating a DataFrame\n",
        "data = {\n",
        "    \"Name\": [\"Alice\", \"Bob\", \"Charlie\"],\n",
        "    \"Age\": [25, 30, 35],\n",
        "    \"Score\": [85, 90, 95]\n",
        "}\n",
        "df = pd.DataFrame(data)\n",
        "print(df.head())\n",
        "\n",
        "# Filtering data\n",
        "filtered_df = df[df[\"Age\"] > 25]\n",
        "print(filtered_df)"
      ]
    },
    {
      "cell_type": "code",
      "execution_count": null,
      "id": "6r7s8t9u",
      "metadata": {},
      "outputs": [],
      "source": [
        "# Example 3: Data Visualization with Matplotlib\n",
        "import matplotlib.pyplot as plt\n",
        "\n",
        "# Sample data\n",
        "categories = [\"A\", \"B\", \"C\"]\n",
        "values = [50, 75, 100]\n",
        "\n",
        "# Creating a bar chart\n",
        "plt.bar(categories, values, color=\"blue\")\n",
        "plt.title(\"Category vs. Values\")\n",
        "plt.xlabel(\"Categories\")\n",
        "plt.ylabel(\"Values\")\n",
        "plt.show()"
      ]
    },
    {
      "cell_type": "code",
      "execution_count": null,
      "id": "6r7s8t9u",
      "metadata": {},
      "outputs": [],
      "source": [
        "# Example 3: Data Visualization with Matplotlib\n",
        "import matplotlib.pyplot as plt\n",
        "\n",
        "# Sample data\n",
        "categories = [\"A\", \"B\", \"C\"]\n",
        "values = [50, 75, 100]\n",
        "\n",
        "# Creating a bar chart\n",
        "plt.bar(categories, values, color=\"blue\")\n",
        "plt.title(\"Category vs. Values\")\n",
        "plt.xlabel(\"Categories\")\n",
        "plt.ylabel(\"Values\")\n",
        "plt.show()"
      ]
    },
    {
      "cell_type": "code",
      "execution_count": null,
      "id": "0v1w2x3y",
      "metadata": {},
      "outputs": [],
      "source": [
        "# Example 4: NumPy Operations\n",
        "import numpy as np\n",
        "\n",
        "# Creating arrays\n",
        "array = np.array([1, 2, 3, 4, 5])\n",
        "print(\"Original Array:\", array)\n",
        "\n",
        "# Array operations\n",
        "print(\"Mean:\", np.mean(array))\n",
        "print(\"Sum:\", np.sum(array))"
      ]
    },
    {
      "cell_type": "code",
      "execution_count": null,
      "id": "1y2z3a4b",
      "metadata": {},
      "outputs": [],
      "source": [
        "# Example 5: Basic Machine Learning with scikit-learn\n",
        "from sklearn.linear_model import LinearRegression\n",
        "import numpy as np\n",
        "\n",
        "# Sample data\n",
        "X = np.array([[1], [2], [3], [4], [5]])  # Features\n",
        "y = np.array([2, 4, 6, 8, 10])          # Target values\n",
        "\n",
        "# Creating and training the model\n",
        "model = LinearRegression()\n",
        "model.fit(X, y)\n",
        "\n",
        "# Making predictions\n",
        "predictions = model.predict(np.array([[6], [7]]))\n",
        "print(\"Predictions:\", predictions)"
      ]
    },
    {
      "cell_type": "markdown",
      "id": "4b5c6d7e",
      "metadata": {},
      "source": [
        "<link rel='stylesheet' type='text/css' href='styles.css'>\n",
        "<div class=\"subtitle\" id='level-3-advanced'>Level 3: Expertise in Python for Data Science and Machine Learning</div>\n",
        "<p class=\"p\">Objective:</p>\n",
        "<p class=\"rm\">Master advanced Python techniques for handling machine learning, deep learning, big data, and APIs.</p>\n",
        "<p class=\"p\">Core Topics:</p>\n",
        "<ul>\n",
        "    <li>Advanced machine learning algorithms (e.g., random forests, gradient boosting)</li>\n",
        "    <li>Deep learning basics with TensorFlow or PyTorch</li>\n",
        "    <li>Big data handling with PySpark</li>\n",
        "    <li>Natural Language Processing (NLP) with Python</li>\n",
        "    <li>Working with APIs in Python</li>\n",
        "</ul>"
      ]
    },
    {
      "cell_type": "code",
      "execution_count": null,
      "id": "7f8g9h0i",
      "metadata": {},
      "outputs": [],
      "source": [
        "# Example 1: Random Forest with scikit-learn\n",
        "from sklearn.ensemble import RandomForestClassifier\n",
        "from sklearn.datasets import load_iris\n",
        "from sklearn.model_selection import train_test_split\n",
        "\n",
        "# Loading data\n",
        "iris = load_iris()\n",
        "X, y = iris.data, iris.target\n",
        "\n",
        "# Splitting data\n",
        "X_train, X_test, y_train, y_test = train_test_split(X, y, test_size=0.2, random_state=42)\n",
        "\n",
        "# Creating and training the model\n",
        "clf = RandomForestClassifier()\n",
        "clf.fit(X_train, y_train)\n",
        "\n",
        "# Evaluating the model\n",
        "print(\"Accuracy:\", clf.score(X_test, y_test))"
      ]
    },
    {
      "cell_type": "code",
      "execution_count": null,
      "id": "0j1k2l3m",
      "metadata": {},
      "outputs": [],
      "source": [
        "# Example 2: Neural Network with TensorFlow\n",
        "import tensorflow as tf\n",
        "from tensorflow.keras.models import Sequential\n",
        "from tensorflow.keras.layers import Dense\n",
        "\n",
        "# Generating sample data\n",
        "X = np.array([[0], [1], [2], [3], [4]], dtype=float)\n",
        "y = np.array([[0], [1], [4], [9], [16]], dtype=float)\n",
        "\n",
        "# Defining the model\n",
        "model = Sequential([\n",
        "    Dense(units=10, activation='relu'),\n",
        "    Dense(units=1)\n",
        "])\n",
        "\n",
        "# Compiling and training the model\n",
        "model.compile(optimizer='adam', loss='mean_squared_error')\n",
        "model.fit(X, y, epochs=500, verbose=0)\n",
        "\n",
        "# Making predictions\n",
        "predictions = model.predict(np.array([[5], [6]]))\n",
        "print(\"Predictions:\", predictions)"
      ]
    },
    {
      "cell_type": "code",
      "execution_count": null,
      "id": "3n4o5p6q",
      "metadata": {},
      "outputs": [],
      "source": [
        "# Example 3: Big Data Handling with PySpark\n",
        "from pyspark.sql import SparkSession\n",
        "\n",
        "# Creating a Spark session\n",
        "spark = SparkSession.builder.appName(\"BigDataExample\").getOrCreate()\n",
        "\n",
        "# Creating a DataFrame\n",
        "data = [(1, \"Alice\", 2000), (2, \"Bob\", 1500), (3, \"Cathy\", 2500)]\n",
        "columns = [\"ID\", \"Name\", \"Salary\"]\n",
        "df = spark.createDataFrame(data, columns)\n",
        "\n",
        "# Performing operations\n",
        "df_filtered = df.filter(df['Salary'] > 1800)\n",
        "df_filtered.show()\n",
        "\n",
        "# Stopping the Spark session\n",
        "spark.stop()"
      ]
    },
    {
      "cell_type": "code",
      "execution_count": null,
      "id": "6r7s8t9u",
      "metadata": {},
      "outputs": [],
      "source": [
        "# Example 4: Basic NLP with spaCy\n",
        "import spacy\n",
        "\n",
        "# Loading the spaCy model\n",
        "nlp = spacy.load(\"en_core_web_sm\")\n",
        "\n",
        "# Analyzing a text\n",
        "text = \"Python is a powerful programming language for data analysis.\"\n",
        "doc = nlp(text)\n",
        "\n",
        "# Extracting tokens and named entities\n",
        "print(\"Tokens:\")\n",
        "for token in doc:\n",
        "    print(token.text, \"->\", token.pos_)\n",
        "\n",
        "print(\"\\nNamed Entities:\")\n",
        "for ent in doc.ents:\n",
        "    print(ent.text, \"->\", ent.label_)"
      ]
    },
    {
      "cell_type": "code",
      "execution_count": null,
      "id": "9v0w1x2y",
      "metadata": {},
      "outputs": [],
      "source": [
        "# Example 5: Fetching Data from an API\n",
        "import requests\n",
        "\n",
        "# Fetching data from a public API\n",
        "response = requests.get(\"https://api.coindesk.com/v1/bpi/currentprice.json\")\n",
        "if response.status_code == 200:\n",
        "    data = response.json()\n",
        "    print(\"Bitcoin Price (USD):\", data['bpi']['USD']['rate'])\n",
        "else:\n",
        "    print(\"Failed to fetch data from the API\")"
      ]
    },
    {
      "cell_type": "markdown",
      "id": "2z3a4b5c",
      "metadata": {},
      "source": [
        "<link rel='stylesheet' type='text/css' href='styles.css'>\n",
        "<div class=\"subtitle\">Conclusion</div>\n",
        "<p class=\"p\">This notebook provided a structured progression through Python for Data Science, covering:</p>\n",
        "<ul>\n",
        "    <li><b>Basic Level:</b> Fundamentals of Python, data structures, and control flow.</li>\n",
        "    <li><b>Intermediate Level:</b> Data manipulation, visualization, and introductory machine learning.</li>\n",
        "    <li><b>Advanced Level:</b> Deep learning, big data, and advanced techniques.</li>\n",
        "</ul>\n",
        "<p class=\"rm\">Mastery of these concepts ensures a strong foundation and expertise in Python for Data Analysis and Data Science.</p>"
      ]
    }
  ]
}
